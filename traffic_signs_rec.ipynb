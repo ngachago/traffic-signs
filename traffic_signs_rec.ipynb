{
 "cells": [
  {
   "cell_type": "code",
   "execution_count": 2,
   "id": "f960f62b",
   "metadata": {},
   "outputs": [],
   "source": [
    "import numpy as np\n",
    "import pandas as pd\n",
    "import matplotlib.pyplot as plt\n",
    "import tensorflow as tf\n",
    "from PIL import Image\n",
    "import os\n",
    "from sklearn.model_selection import train_test_split\n",
    "from tensorflow.keras.utils import to_categorical\n",
    "from tensorflow.keras.models import Sequential\n",
    "from tensorflow.keras.layers import Conv2D, MaxPool2D, Dense, Flatten, Dropout\n",
    "from sklearn.metrics import accuracy_score\n",
    "from tensorflow.keras import callbacks"
   ]
  },
  {
   "cell_type": "code",
   "execution_count": 3,
   "id": "c858688a",
   "metadata": {},
   "outputs": [],
   "source": [
    "data = []\n",
    "labels = []\n",
    "classes = 43\n",
    "cur_path = os.getcwd()\n",
    "\n",
    "for i in range(classes):\n",
    "    path = os.path.join(cur_path, 'data/Train', str(i))\n",
    "#     print(path)\n",
    "    images = os.listdir(path)\n",
    "    \n",
    "    for a in images:\n",
    "        try:\n",
    "            image = Image.open(path + '\\\\' + a)\n",
    "            image = image.resize((30, 30))\n",
    "            image = np.array(image)\n",
    "            #sim = Image.fromarray(image)\n",
    "            data.append(image)\n",
    "            labels.append(i)\n",
    "        except:\n",
    "            print(\"Error loading image\")\n",
    "            \n",
    "data = np.array(data)\n",
    "labels = np.array(labels)\n",
    "\n"
   ]
  },
  {
   "cell_type": "code",
   "execution_count": 4,
   "id": "7448851a",
   "metadata": {},
   "outputs": [
    {
     "name": "stdout",
     "output_type": "stream",
     "text": [
      "(39209, 30, 30, 3)\n",
      "(39209,)\n"
     ]
    }
   ],
   "source": [
    "print(data.shape)\n",
    "print (labels.shape)"
   ]
  },
  {
   "cell_type": "code",
   "execution_count": 5,
   "id": "f00b5b30",
   "metadata": {},
   "outputs": [
    {
     "name": "stdout",
     "output_type": "stream",
     "text": [
      "(31367, 30, 30, 3) (7842, 30, 30, 3) (31367,) (7842,)\n"
     ]
    }
   ],
   "source": [
    "X_train, X_test, y_train, y_test = train_test_split(data, labels, test_size=0.2, random_state=42)\n",
    "print(X_train.shape, X_test.shape, y_train.shape, y_test.shape)"
   ]
  },
  {
   "cell_type": "code",
   "execution_count": 6,
   "id": "a9275c08",
   "metadata": {},
   "outputs": [],
   "source": [
    "y_train = to_categorical(y_train, 43)\n",
    "y_test = to_categorical(y_test, 43)"
   ]
  },
  {
   "cell_type": "code",
   "execution_count": 7,
   "id": "588aa231",
   "metadata": {},
   "outputs": [
    {
     "name": "stdout",
     "output_type": "stream",
     "text": [
      "[0. 0. 0. 0. 0. 0. 0. 0. 0. 0. 0. 0. 0. 0. 0. 0. 0. 0. 0. 0. 0. 0. 0. 0.\n",
      " 0. 0. 0. 0. 1. 0. 0. 0. 0. 0. 0. 0. 0. 0. 0. 0. 0. 0. 0.]\n"
     ]
    }
   ],
   "source": [
    "print(y_train[1])"
   ]
  },
  {
   "cell_type": "code",
   "execution_count": 8,
   "id": "6a2d83bb",
   "metadata": {},
   "outputs": [],
   "source": [
    "# Build a CNN model\n",
    "\n",
    "model = Sequential()\n",
    "model.add(Conv2D(filters=32, kernel_size=(5,5), activation='relu', input_shape=X_train.shape[1:]))\n",
    "model.add(Conv2D(filters=32, kernel_size=(5,5), activation='relu'))\n",
    "model.add(MaxPool2D(pool_size=(2,2)))\n",
    "model.add(Dropout(rate=0.25))\n",
    "model.add(Conv2D(filters=64, kernel_size=(3,3), activation='relu'))\n",
    "model.add(Conv2D(filters=64, kernel_size=(3,3), activation='relu'))\n",
    "model.add(MaxPool2D(pool_size=(2,2)))\n",
    "model.add(Dropout(rate=0.25))\n",
    "model.add(Flatten())\n",
    "model.add(Dense(256, activation='relu'))\n",
    "model.add(Dropout(rate=0.5))\n",
    "model.add(Dense(43, activation='softmax'))"
   ]
  },
  {
   "cell_type": "code",
   "execution_count": 9,
   "id": "f28bcc49",
   "metadata": {},
   "outputs": [],
   "source": [
    "# Compile the model\n",
    "\n",
    "model.compile(loss='categorical_crossentropy', optimizer='adam', metrics=['accuracy'])"
   ]
  },
  {
   "cell_type": "code",
   "execution_count": 10,
   "id": "d18726f4",
   "metadata": {},
   "outputs": [
    {
     "name": "stdout",
     "output_type": "stream",
     "text": [
      "Epoch 1/15\n",
      "785/785 [==============================] - 54s 67ms/step - loss: 2.1882 - accuracy: 0.4653 - val_loss: 0.5926 - val_accuracy: 0.8604\n",
      "Epoch 2/15\n",
      "785/785 [==============================] - 53s 67ms/step - loss: 0.7583 - accuracy: 0.7811 - val_loss: 0.2336 - val_accuracy: 0.9413\n",
      "Epoch 3/15\n",
      "785/785 [==============================] - 53s 67ms/step - loss: 0.4730 - accuracy: 0.8633 - val_loss: 0.1567 - val_accuracy: 0.9582\n",
      "Epoch 4/15\n",
      "785/785 [==============================] - 53s 67ms/step - loss: 0.3630 - accuracy: 0.8955 - val_loss: 0.1178 - val_accuracy: 0.9676\n",
      "Epoch 5/15\n",
      "785/785 [==============================] - 53s 67ms/step - loss: 0.2947 - accuracy: 0.9160 - val_loss: 0.0913 - val_accuracy: 0.9750\n",
      "Epoch 6/15\n",
      "785/785 [==============================] - 53s 67ms/step - loss: 0.2789 - accuracy: 0.9213 - val_loss: 0.1012 - val_accuracy: 0.9707\n",
      "Epoch 7/15\n",
      "785/785 [==============================] - 53s 68ms/step - loss: 0.2628 - accuracy: 0.9286 - val_loss: 0.0895 - val_accuracy: 0.9775\n",
      "Epoch 8/15\n",
      "785/785 [==============================] - 53s 68ms/step - loss: 0.2483 - accuracy: 0.9332 - val_loss: 0.0664 - val_accuracy: 0.9791\n",
      "Epoch 9/15\n",
      "785/785 [==============================] - 54s 68ms/step - loss: 0.2340 - accuracy: 0.9369 - val_loss: 0.0847 - val_accuracy: 0.9780\n",
      "Epoch 10/15\n",
      "785/785 [==============================] - 53s 68ms/step - loss: 0.2557 - accuracy: 0.9331 - val_loss: 0.0606 - val_accuracy: 0.9828\n",
      "Epoch 11/15\n",
      "785/785 [==============================] - 53s 67ms/step - loss: 0.2434 - accuracy: 0.9349 - val_loss: 0.0778 - val_accuracy: 0.9802\n",
      "Epoch 12/15\n",
      "785/785 [==============================] - 53s 67ms/step - loss: 0.2183 - accuracy: 0.9457 - val_loss: 0.0963 - val_accuracy: 0.9748\n",
      "Epoch 13/15\n",
      "785/785 [==============================] - 52s 67ms/step - loss: 0.2161 - accuracy: 0.9421 - val_loss: 0.0567 - val_accuracy: 0.9853\n",
      "Epoch 14/15\n",
      "785/785 [==============================] - 52s 67ms/step - loss: 0.2036 - accuracy: 0.9488 - val_loss: 0.0440 - val_accuracy: 0.9901\n",
      "Epoch 15/15\n",
      "785/785 [==============================] - 52s 67ms/step - loss: 0.2032 - accuracy: 0.9475 - val_loss: 0.0664 - val_accuracy: 0.9815\n"
     ]
    }
   ],
   "source": [
    "# Train and validate the model\n",
    "\n",
    "epochs = 15\n",
    "history = model.fit(X_train, y_train, batch_size=32, epochs=epochs, validation_split=0.2)"
   ]
  },
  {
   "cell_type": "code",
   "execution_count": 11,
   "id": "2c0bba89",
   "metadata": {},
   "outputs": [
    {
     "data": {
      "text/plain": [
       "<matplotlib.legend.Legend at 0x189433f3f10>"
      ]
     },
     "execution_count": 11,
     "metadata": {},
     "output_type": "execute_result"
    },
    {
     "data": {
      "image/png": "[encoded data removed]",
      "text/plain": [
       "<Figure size 432x288 with 1 Axes>"
      ]
     },
     "metadata": {
      "needs_background": "light"
     },
     "output_type": "display_data"
    },
    {
     "data": {
      "image/png": "[encoded data removed]",
      "text/plain": [
       "<Figure size 432x288 with 1 Axes>"
      ]
     },
     "metadata": {
      "needs_background": "light"
     },
     "output_type": "display_data"
    }
   ],
   "source": [
    "# Plot accuracy and loss\n",
    "\n",
    "plt.figure(0)\n",
    "plt.plot(history.history['accuracy'], label='training accuracy')\n",
    "plt.plot(history.history['val_accuracy'], label='val accuracy')\n",
    "plt.title('Accuracy')\n",
    "plt.xlabel('epochs')\n",
    "plt.ylabel('accuracy')\n",
    "plt.legend()\n",
    "\n",
    "plt.figure(1)\n",
    "plt.plot(history.history['loss'], label='training loss')\n",
    "plt.plot(history.history['val_loss'], label='val loss')\n",
    "plt.title('Loss')\n",
    "plt.xlabel('epochs')\n",
    "plt.ylabel('loss')\n",
    "plt.legend()"
   ]
  },
  {
   "cell_type": "code",
   "execution_count": 12,
   "id": "d706f75a",
   "metadata": {},
   "outputs": [
    {
     "data": {
      "text/plain": [
       "0.9470308788598575"
      ]
     },
     "execution_count": 12,
     "metadata": {},
     "output_type": "execute_result"
    }
   ],
   "source": [
    "y_test = pd.read_csv('data/Test.csv')\n",
    "\n",
    "labels = y_test['ClassId'].values\n",
    "imgs = y_test['Path'].values\n",
    "data=[]\n",
    "for img in imgs:\n",
    "    path = 'data/'+img\n",
    "    image = Image.open(path)\n",
    "    image = image.resize((30, 30))\n",
    "    data.append(np.array(image))\n",
    "\n",
    "X_test = np.array(data)\n",
    "# pred = model.predict_classes(X_test) - depricated\n",
    "\n",
    "pred = np.argmax(model.predict(X_test), axis=-1)\n",
    "accuracy_score(labels, pred)"
   ]
  },
  {
   "cell_type": "code",
   "execution_count": 13,
   "id": "ae7c9cd1",
   "metadata": {},
   "outputs": [],
   "source": [
    "model.save('traffic_classifier.h5')"
   ]
  },
  {
   "cell_type": "code",
   "execution_count": null,
   "id": "456986c1",
   "metadata": {},
   "outputs": [],
   "source": [
    " "
   ]
  }
 ],
 "metadata": {
  "kernelspec": {
   "display_name": "Python 3",
   "language": "python",
   "name": "python3"
  },
  "language_info": {
   "codemirror_mode": {
    "name": "ipython",
    "version": 3
   },
   "file_extension": ".py",
   "mimetype": "text/x-python",
   "name": "python",
   "nbconvert_exporter": "python",
   "pygments_lexer": "ipython3",
   "version": "3.9.2"
  },
  "toc": {
   "base_numbering": 1,
   "nav_menu": {},
   "number_sections": true,
   "sideBar": true,
   "skip_h1_title": false,
   "title_cell": "Table of Contents",
   "title_sidebar": "Contents",
   "toc_cell": false,
   "toc_position": {},
   "toc_section_display": true,
   "toc_window_display": false
  }
 },
 "nbformat": 4,
 "nbformat_minor": 5
}
